{
  "nbformat": 4,
  "nbformat_minor": 0,
  "metadata": {
    "colab": {
      "provenance": []
    },
    "kernelspec": {
      "name": "python3",
      "display_name": "Python 3"
    },
    "language_info": {
      "name": "python"
    }
  },
  "cells": [
    {
      "cell_type": "code",
      "source": [
        "class Atm:\n",
        "  #constructor (spection function)\n",
        "  #self is a current object\n",
        "  def __init__(self):\n",
        "    print(id(self))\n",
        "    self.pin = ''\n",
        "    self.balance = 0\n",
        "    self.menu()\n",
        "  def menu(self):\n",
        "    user_input = input(\"\"\"\n",
        "    hii how can i help you?\n",
        "    1.create pin\n",
        "    2.change pin\n",
        "    3.check balance\n",
        "    4.withdraw\n",
        "    5.exit\n",
        "    \"\"\")\n",
        "    if user_input == '1':\n",
        "      #create a pin\n",
        "      self.create_pin()\n",
        "    elif user_input == '2':\n",
        "      #change pin\n",
        "      self.change_pin()\n",
        "    elif user_input == '3':\n",
        "      #check balance\n",
        "      self.check_balance()\n",
        "    elif user_input == '4':\n",
        "      #withdraw\n",
        "      self.user_withdraw()\n",
        "    else:\n",
        "      exit()\n",
        "\n",
        "  def create_pin(self):\n",
        "    user_pin = input('enter your pin')\n",
        "    self.pin = user_pin\n",
        "    user_balance = int(input('enter balance'))\n",
        "    self.balance = user_balance\n",
        "    print('pin created successfully')\n",
        "    self.menu()\n",
        "  def change_pin(self):\n",
        "    old_pin = input('enter old pin')\n",
        "    if old_pin == self.pin:\n",
        "      new_pin = input('enter new pin')\n",
        "      self.pin = new_pin\n",
        "      print('pin chnage succssfully')\n",
        "      self.menu()\n",
        "    else:\n",
        "      print('wrong pin')\n",
        "      self.menu()\n",
        "\n",
        "  def check_balance(self):\n",
        "    user_pin = input('enter you pin')\n",
        "    if user_pin == self.pin:\n",
        "      print('your balance is',self.balance)\n",
        "      self.menu()\n",
        "    else:\n",
        "      print('wrong pin please enter right pin')\n",
        "      self.menu()\n",
        "\n",
        "  def user_withdraw(self):\n",
        "    user_pin = input('enter you pin')\n",
        "    if user_pin == self.pin:\n",
        "      amount = int(input('enter you withdraw amount'))\n",
        "      if amount <= self.balance:\n",
        "        self.balance = self.balance - amount\n",
        "        print('withdraw successfully',self.balance)\n",
        "        self.menu()\n",
        "      else:\n",
        "        print('insufficient balance')\n",
        "        self.menu()\n",
        "    else:\n",
        "      print('wrong pin please enter right pin')\n",
        "      self.menu()\n"
      ],
      "metadata": {
        "id": "NXPcxkS5CoqN"
      },
      "execution_count": 35,
      "outputs": []
    },
    {
      "cell_type": "code",
      "source": [
        "obj=Atm()"
      ],
      "metadata": {
        "colab": {
          "base_uri": "https://localhost:8080/"
        },
        "id": "WH3Qn3E-2NFg",
        "outputId": "213a043c-3188-45f4-dcb0-429659409d39"
      },
      "execution_count": 33,
      "outputs": [
        {
          "output_type": "stream",
          "name": "stdout",
          "text": [
            "139817086417296\n"
          ]
        }
      ]
    },
    {
      "cell_type": "code",
      "source": [
        "id(obj)"
      ],
      "metadata": {
        "colab": {
          "base_uri": "https://localhost:8080/"
        },
        "id": "3lveNVO2HRQs",
        "outputId": "b9becfe1-3088-4bfb-ebf1-ab7c56cc1212"
      },
      "execution_count": 34,
      "outputs": [
        {
          "output_type": "execute_result",
          "data": {
            "text/plain": [
              "139817086417296"
            ]
          },
          "metadata": {},
          "execution_count": 34
        }
      ]
    },
    {
      "cell_type": "code",
      "source": [
        "class Fraction:\n",
        "  #perameterized cunstructore\n",
        "  def __init__(self,x,y):\n",
        "    self.num = x\n",
        "    self.den = y\n",
        "  def __str__(self):#object print karva mate kevo object dekahy e samjva use thu\n",
        "    return '{}/{}'.format(self.num,self.den)\n",
        "  def __add__(self,other):\n",
        "    new_num = self.num*other.den + other.num*self.den\n",
        "    new_den = self.den*other.den\n",
        "    return '{}/{}'.format(new_num,new_den)\n",
        "  def __sub__(self,other):\n",
        "    new_num = self.num*other.den - other.num*self.den\n",
        "    new_den = self.den*other.den\n",
        "    return '{}/{}'.format(new_num,new_den)\n",
        "  def __mul__(self,other):\n",
        "    new_num = self.num*other.num\n",
        "    new_den = self.den*other.den\n",
        "    return '{}/{}'.format(new_num,new_den)\n",
        "  def __truediv__(self,other): # Changed __truediv_ to __truediv__\n",
        "    new_num = self.num*other.den\n",
        "    new_den = self.den*other.num\n",
        "    return '{}/{}'.format(new_num,new_den)"
      ],
      "metadata": {
        "id": "z1moOCj92NC9"
      },
      "execution_count": 99,
      "outputs": []
    },
    {
      "cell_type": "code",
      "source": [
        "fr1 = Fraction(3,4)\n",
        "fr1"
      ],
      "metadata": {
        "colab": {
          "base_uri": "https://localhost:8080/"
        },
        "id": "_F_LBB9J2NBB",
        "outputId": "0c7073fd-bfb0-43c0-fc47-5064804a79ec"
      },
      "execution_count": 100,
      "outputs": [
        {
          "output_type": "execute_result",
          "data": {
            "text/plain": [
              "<__main__.Fraction at 0x7f29b3858f90>"
            ]
          },
          "metadata": {},
          "execution_count": 100
        }
      ]
    },
    {
      "cell_type": "code",
      "source": [
        "fr2 = Fraction(1,2)\n",
        "fr2"
      ],
      "metadata": {
        "colab": {
          "base_uri": "https://localhost:8080/"
        },
        "id": "wfMKO_0EKdSV",
        "outputId": "b9c52932-0709-4e5f-9b46-ff583a54e8b3"
      },
      "execution_count": 101,
      "outputs": [
        {
          "output_type": "execute_result",
          "data": {
            "text/plain": [
              "<__main__.Fraction at 0x7f29b3c2af50>"
            ]
          },
          "metadata": {},
          "execution_count": 101
        }
      ]
    },
    {
      "cell_type": "code",
      "source": [
        "print(fr1 / fr2)"
      ],
      "metadata": {
        "colab": {
          "base_uri": "https://localhost:8080/"
        },
        "id": "f1DwXC9UMCAJ",
        "outputId": "b3465a23-e360-4587-c746-2a74b0f821fc"
      },
      "execution_count": 102,
      "outputs": [
        {
          "output_type": "stream",
          "name": "stdout",
          "text": [
            "6/4\n"
          ]
        }
      ]
    },
    {
      "cell_type": "code",
      "source": [
        "print(fr1)"
      ],
      "metadata": {
        "colab": {
          "base_uri": "https://localhost:8080/"
        },
        "id": "Upowznp1JjO2",
        "outputId": "f449ad02-2914-4380-9faa-57d95ce00135"
      },
      "execution_count": 88,
      "outputs": [
        {
          "output_type": "stream",
          "name": "stdout",
          "text": [
            "3/4\n"
          ]
        }
      ]
    },
    {
      "cell_type": "code",
      "source": [
        "print(type(fr1))"
      ],
      "metadata": {
        "colab": {
          "base_uri": "https://localhost:8080/"
        },
        "id": "H81yx6q32M-r",
        "outputId": "aa50097d-f40c-40ab-d6a4-7d4ac4dd13c6"
      },
      "execution_count": 103,
      "outputs": [
        {
          "output_type": "stream",
          "name": "stdout",
          "text": [
            "<class '__main__.Fraction'>\n"
          ]
        }
      ]
    },
    {
      "cell_type": "code",
      "source": [
        "print(fr1+fr2)"
      ],
      "metadata": {
        "colab": {
          "base_uri": "https://localhost:8080/"
        },
        "id": "IokDSiGx2M8d",
        "outputId": "dfcbeb2d-ba47-45ff-f185-170365265592"
      },
      "execution_count": 104,
      "outputs": [
        {
          "output_type": "stream",
          "name": "stdout",
          "text": [
            "10/8\n"
          ]
        }
      ]
    },
    {
      "cell_type": "code",
      "source": [
        "print(fr1-fr2)"
      ],
      "metadata": {
        "colab": {
          "base_uri": "https://localhost:8080/"
        },
        "id": "b3q8ehk0K6ij",
        "outputId": "d012b8cc-25b9-4d3e-90f1-630f804ac2b5"
      },
      "execution_count": 105,
      "outputs": [
        {
          "output_type": "stream",
          "name": "stdout",
          "text": [
            "2/8\n"
          ]
        }
      ]
    },
    {
      "cell_type": "code",
      "source": [
        "print(fr1*fr2)"
      ],
      "metadata": {
        "colab": {
          "base_uri": "https://localhost:8080/"
        },
        "id": "NaVwR5YrLVOh",
        "outputId": "71d0e82f-1e41-461f-f93c-f2bc0bf66b15"
      },
      "execution_count": 106,
      "outputs": [
        {
          "output_type": "stream",
          "name": "stdout",
          "text": [
            "3/8\n"
          ]
        }
      ]
    }
  ]
}