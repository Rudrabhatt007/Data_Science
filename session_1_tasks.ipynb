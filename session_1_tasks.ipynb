{
  "nbformat": 4,
  "nbformat_minor": 0,
  "metadata": {
    "colab": {
      "provenance": [],
      "include_colab_link": true
    },
    "kernelspec": {
      "name": "python3",
      "display_name": "Python 3"
    },
    "language_info": {
      "name": "python"
    }
  },
  "cells": [
    {
      "cell_type": "markdown",
      "metadata": {
        "id": "view-in-github",
        "colab_type": "text"
      },
      "source": [
        "<a href=\"https://colab.research.google.com/github/Rudrabhatt007/Data_Science/blob/task/session_1_tasks.ipynb\" target=\"_parent\"><img src=\"https://colab.research.google.com/assets/colab-badge.svg\" alt=\"Open In Colab\"/></a>"
      ]
    },
    {
      "cell_type": "markdown",
      "source": [
        "# Task : Session 1\n",
        "Solve these questions own your own and try to test yourself what you have learned in the session.\n",
        "\n",
        "Happy Learning!"
      ],
      "metadata": {
        "id": "A05OG15VqOPF"
      }
    },
    {
      "cell_type": "markdown",
      "source": [
        "### Q1 :- Print the given strings as per stated format.\n",
        "\n",
        "**Given strings**:\n",
        "```\n",
        "\"Data\" \"Science\" \"Mentorship\" \"Program\"\n",
        "\"By\" \"CampusX\"\n",
        "```\n",
        "**Output**:\n",
        "```\n",
        "Data-Science-Mentorship-Program-started-By-CampusX\n",
        "```\n",
        "\n",
        "Concept- [Seperator and End]"
      ],
      "metadata": {
        "id": "2doIXf8bqe9_"
      }
    },
    {
      "cell_type": "code",
      "source": [
        "print(\"Data\",\"Science\",\"Mentorship\",\"Program\",\"started\",\"By\",\"CampusX\",sep=\"-\")"
      ],
      "metadata": {
        "id": "-em6d3KErDtp",
        "outputId": "7c38596f-8af5-4177-925a-97cafe8f30fe",
        "colab": {
          "base_uri": "https://localhost:8080/"
        }
      },
      "execution_count": 2,
      "outputs": [
        {
          "output_type": "stream",
          "name": "stdout",
          "text": [
            "Data-Science-Mentorship-Program-started-By-CampusX\n"
          ]
        }
      ]
    },
    {
      "cell_type": "markdown",
      "source": [
        "### Q2:- Write a program that will convert celsius value to fahrenheit."
      ],
      "metadata": {
        "id": "1KUpN7ZTrC3_"
      }
    },
    {
      "cell_type": "code",
      "source": [
        "c=int(input(\"enter celsius value\"))\n",
        "f=(c*9/5)+32\n",
        "print(f)\n"
      ],
      "metadata": {
        "id": "yxKYhYQiqWfj",
        "outputId": "56793c45-4fa7-4f19-f73f-98607115c5f5",
        "colab": {
          "base_uri": "https://localhost:8080/"
        }
      },
      "execution_count": 3,
      "outputs": [
        {
          "output_type": "stream",
          "name": "stdout",
          "text": [
            "enter celsius value20\n",
            "68.0\n"
          ]
        }
      ]
    },
    {
      "cell_type": "markdown",
      "source": [
        "### Q3:- Take 2 numbers as input from the user.Write a program to swap the numbers without using any special python syntax."
      ],
      "metadata": {
        "id": "RLrOBBJurLB2"
      }
    },
    {
      "cell_type": "code",
      "source": [
        "a=int(input(\"enter first value\"))\n",
        "b=int(input(\"enter second value\"))\n",
        "c=a\n",
        "a=b\n",
        "b=c\n",
        "print(\"value of a after swapping\",a)\n",
        "print(\"value of b after swapping\",b)"
      ],
      "metadata": {
        "id": "yPn7if0TrJ4F",
        "outputId": "73c297c3-e033-4c29-9576-244d2586cae5",
        "colab": {
          "base_uri": "https://localhost:8080/"
        }
      },
      "execution_count": 4,
      "outputs": [
        {
          "output_type": "stream",
          "name": "stdout",
          "text": [
            "enter first value10\n",
            "enter second value20\n",
            "value of a after swapping 20\n",
            "value of b after swapping 10\n"
          ]
        }
      ]
    },
    {
      "cell_type": "markdown",
      "source": [
        "### Q4:- Write a program to find the euclidean distance between two coordinates.Take both the coordinates from the user as input."
      ],
      "metadata": {
        "id": "waLCP1bjr7ML"
      }
    },
    {
      "cell_type": "markdown",
      "source": [
        "√[ (x\n",
        "2\n",
        " – x\n",
        "1\n",
        ")2 + (y\n",
        "2\n",
        " – y\n",
        "1\n",
        ")2]"
      ],
      "metadata": {
        "id": "CNIiWhaWv5HC"
      }
    },
    {
      "cell_type": "code",
      "source": [
        "p1x=int(input(\"enter x coordinate of first point\"))\n",
        "p1y=int(input(\"enter y coordinate of first point\"))\n",
        "p2x=int(input(\"enter x coordinate of second point\"))\n",
        "p2y=int(input(\"enter y coordinate of second point\"))\n",
        "distance=(((p2x-p1x)**2)+((p2y-p1y)**2))**0.5\n",
        "print(distance)"
      ],
      "metadata": {
        "id": "Pl1Sv-xnrxnH",
        "outputId": "d82e9cb3-1f79-4dcc-b887-be5a9c624a31",
        "colab": {
          "base_uri": "https://localhost:8080/"
        }
      },
      "execution_count": 5,
      "outputs": [
        {
          "output_type": "stream",
          "name": "stdout",
          "text": [
            "enter x coordinate of first point10\n",
            "enter y coordinate of first point12\n",
            "enter x coordinate of second point65\n",
            "enter y coordinate of second point62\n",
            "74.33034373659252\n"
          ]
        }
      ]
    },
    {
      "cell_type": "markdown",
      "source": [
        "### Q5:- Write a program to find the simple interest when the value of principle,rate of interest and time period is provided by the user.\n"
      ],
      "metadata": {
        "id": "VLrhg-FRsHjR"
      }
    },
    {
      "cell_type": "markdown",
      "source": [
        "p*t*r/100\n"
      ],
      "metadata": {
        "id": "tP4L1lPJw3Gu"
      }
    },
    {
      "cell_type": "code",
      "source": [
        "p=int(input(\"enter principle amount\"))\n",
        "t=int(input(\"enter time period\"))\n",
        "r=int(input(\"enter rate of interest\"))\n",
        "ans= (p*t*r)/100\n",
        "print(ans)"
      ],
      "metadata": {
        "id": "s40DlReZsTmY",
        "outputId": "6f6f5975-ca3c-45ab-8891-9545f6256740",
        "colab": {
          "base_uri": "https://localhost:8080/"
        }
      },
      "execution_count": 6,
      "outputs": [
        {
          "output_type": "stream",
          "name": "stdout",
          "text": [
            "enter principle amount10\n",
            "enter time period25\n",
            "enter rate of interest2\n",
            "5.0\n"
          ]
        }
      ]
    },
    {
      "cell_type": "markdown",
      "source": [
        "### Q6:- Write a program that will tell the number of dogs and chicken are there when the user will provide the value of total heads and legs.\n",
        "\n",
        "For example:\n",
        "Input:\n",
        "heads -> 4\n",
        "legs -> 12\n",
        "<br>\n",
        "Output:\n",
        "dogs -> 2\n",
        "chicken -> 2\n",
        "\n",
        "\n",
        "\n"
      ],
      "metadata": {
        "id": "LMy0BTUktYKa"
      }
    },
    {
      "cell_type": "code",
      "source": [
        "h=int(input(\"enter number of heads\"))\n",
        "l=int(input(\"enter number of legs\"))\n",
        "chickens = (l-2*h)/2\n",
        "dogs = h-chickens\n",
        "\n",
        "print(\"dog\",dogs)\n",
        "print(\"chikens\",chickens)"
      ],
      "metadata": {
        "id": "XSBvJoA4tXaG",
        "outputId": "0fd36be1-d29c-491b-9757-7479b36a00a0",
        "colab": {
          "base_uri": "https://localhost:8080/"
        }
      },
      "execution_count": 10,
      "outputs": [
        {
          "output_type": "stream",
          "name": "stdout",
          "text": [
            "enter number of heads6\n",
            "enter number of legs18\n",
            "dog 3.0\n",
            "chikens 3.0\n"
          ]
        }
      ]
    },
    {
      "cell_type": "markdown",
      "source": [
        "### Q7:- Write a program to find the sum of squares of first n natural numbers where n will be provided by the user."
      ],
      "metadata": {
        "id": "gJ7C5kZYt4BP"
      }
    },
    {
      "cell_type": "code",
      "source": [
        "n=int(input(\"enter value\"))\n",
        "n=(n*(n+1)*(2*n+1))/6\n",
        "print(n)"
      ],
      "metadata": {
        "id": "_tHsmEHzt2nX",
        "outputId": "dcb748ac-0633-489b-a4b8-93c49815904c",
        "colab": {
          "base_uri": "https://localhost:8080/"
        }
      },
      "execution_count": 11,
      "outputs": [
        {
          "output_type": "stream",
          "name": "stdout",
          "text": [
            "enter value5\n",
            "55.0\n"
          ]
        }
      ]
    },
    {
      "cell_type": "markdown",
      "source": [
        "### Q8:- Given the first 2 terms of an Arithmetic Series.Find the Nth term of the series. Assume all inputs are provided by the user."
      ],
      "metadata": {
        "id": "FHrMM7g-yG1h"
      }
    },
    {
      "cell_type": "code",
      "source": [
        "a=int(input(\"enter value first\"))\n",
        "b=int(input(\"enter value second\"))\n",
        "n=int(input(\"enter value n\"))\n",
        "d=b-a\n",
        "an=a+(n-1)*d\n",
        "print(an)"
      ],
      "metadata": {
        "id": "go4_kmZmyVSx",
        "outputId": "77aa1655-cff4-44f6-f60d-ce729872f82f",
        "colab": {
          "base_uri": "https://localhost:8080/"
        }
      },
      "execution_count": 12,
      "outputs": [
        {
          "output_type": "stream",
          "name": "stdout",
          "text": [
            "enter value first10\n",
            "enter value second20\n",
            "enter value n9\n",
            "90\n"
          ]
        }
      ]
    },
    {
      "cell_type": "markdown",
      "source": [
        "### Q9:- Given 2 fractions, find the sum of those 2 fractions.Take the numerator and denominator values of the fractions from the user."
      ],
      "metadata": {
        "id": "QgyRX_es1oum"
      }
    },
    {
      "cell_type": "code",
      "source": [
        "n1=int(input(\"enter numerator of first fraction\"))\n",
        "d1=int(input(\"enter denominator of first fraction\"))\n",
        "n2=int(input(\"enter numerator of second fraction\"))\n",
        "d2=int(input(\"enter denominator of second fraction\"))\n",
        "ans=(n1*d2+n2*d1)/(d1*d2)\n",
        "print(ans)"
      ],
      "metadata": {
        "id": "X05xqFS1yW16",
        "outputId": "202c982c-5fc8-42a2-aec4-3329fda6f5a6",
        "colab": {
          "base_uri": "https://localhost:8080/"
        }
      },
      "execution_count": 13,
      "outputs": [
        {
          "output_type": "stream",
          "name": "stdout",
          "text": [
            "enter numerator of first fraction10\n",
            "enter denominator of first fraction20\n",
            "enter numerator of second fraction30\n",
            "enter denominator of second fraction40\n",
            "1.25\n"
          ]
        }
      ]
    },
    {
      "cell_type": "markdown",
      "source": [
        "### Q10:- Given the height, width and breadth of a milk tank, you have to find out how many glasses of milk can be obtained? Assume all the inputs are provided by the user.\n",
        "\n",
        "\n",
        "\n",
        "Input:<br>\n",
        "Dimensions of the milk tank<br>\n",
        "H = 20cm, L = 20cm, B = 20cm\n",
        "<br><br>\n",
        "Dimensions of the glass<br>\n",
        "h = 3cm, r = 1cm"
      ],
      "metadata": {
        "id": "eaql38ln13u7"
      }
    },
    {
      "cell_type": "code",
      "source": [
        "# Write your code here\n",
        "import math\n",
        "tank_h=int(input(\"enter height of tank\"))\n",
        "tank_l=int(input(\"enter length of tank\"))\n",
        "tank_b=int(input(\"enter breadth of tank\"))\n",
        "\n",
        "glass_h=int(input(\"enter height of glass\"))\n",
        "glass_r=int(input(\"enter radius of glass\"))\n",
        "\n",
        "vol_tank=tank_h*tank_l*tank_b\n",
        "vol_glass=3.14*glass_r*glass_r*glass_h\n",
        "ans=math.floor(vol_tank/vol_glass)\n",
        "print(ans)"
      ],
      "metadata": {
        "id": "FePZqno74eWv",
        "outputId": "4dbf7225-d5e3-4870-b274-52b66179201b",
        "colab": {
          "base_uri": "https://localhost:8080/"
        }
      },
      "execution_count": 18,
      "outputs": [
        {
          "output_type": "stream",
          "name": "stdout",
          "text": [
            "enter height of tank10\n",
            "enter length of tank19\n",
            "enter breadth of tank10\n",
            "enter height of glass5\n",
            "enter radius of glass2\n",
            "30\n"
          ]
        }
      ]
    }
  ]
}